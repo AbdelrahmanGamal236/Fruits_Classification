{
 "cells": [
  {
   "cell_type": "code",
   "execution_count": 1,
   "metadata": {
    "_cell_guid": "b1076dfc-b9ad-4769-8c92-a6c4dae69d19",
    "_uuid": "8f2839f25d086af736a60e9eeb907d3b93b6e0e5",
    "execution": {
     "iopub.execute_input": "2025-02-22T19:52:07.447553Z",
     "iopub.status.busy": "2025-02-22T19:52:07.447365Z",
     "iopub.status.idle": "2025-02-22T19:52:20.310354Z",
     "shell.execute_reply": "2025-02-22T19:52:20.309670Z",
     "shell.execute_reply.started": "2025-02-22T19:52:07.447534Z"
    },
    "trusted": true
   },
   "outputs": [],
   "source": [
    "import os\n",
    "import random\n",
    "from PIL import Image\n",
    "import numpy as np\n",
    "import tensorflow as tf\n",
    "from tensorflow.keras.applications import VGG19\n",
    "from tensorflow.keras.models import Model\n",
    "from tensorflow.keras.layers import Dense, Flatten, Dropout\n",
    "from tensorflow.keras.optimizers import Adam\n",
    "from sklearn.model_selection import train_test_split\n",
    "from sklearn.preprocessing import LabelEncoder\n"
   ]
  },
  {
   "cell_type": "code",
   "execution_count": 2,
   "metadata": {
    "execution": {
     "iopub.execute_input": "2025-02-22T19:52:20.311554Z",
     "iopub.status.busy": "2025-02-22T19:52:20.311086Z",
     "iopub.status.idle": "2025-02-22T19:52:30.230326Z",
     "shell.execute_reply": "2025-02-22T19:52:30.229650Z",
     "shell.execute_reply.started": "2025-02-22T19:52:20.311530Z"
    },
    "trusted": true
   },
   "outputs": [],
   "source": [
    "\n",
    "base_path = '/kaggle/input/fruits-dataset-for-classification'\n",
    "\n",
    "\n",
    "fruit_label_mapping = {\n",
    "    'fresh_peaches_done': 'fresh_peach',\n",
    "    'fresh_pomegranates_done': 'fresh_pomegranate',\n",
    "    'fresh_strawberries_done': 'fresh_strawberry',\n",
    "    'rotten_peaches_done': 'rotten_peach',\n",
    "    'rotten_pomegranates_done': 'rotten_pomegranate',\n",
    "    'rotten_strawberries_done': 'rotten_strawberry'\n",
    "}\n",
    "\n",
    "\n",
    "def load_and_preprocess_image(image_path):\n",
    "    image = Image.open(image_path).convert('RGB').resize((100, 100))\n",
    "    return np.array(image) / 255.0  \n",
    "\n",
    "\n",
    "all_images_data, all_labels = [], []\n",
    "for dir_name, fruit_type in fruit_label_mapping.items():\n",
    "    directory = os.path.join(base_path, dir_name)\n",
    "    image_list = [os.path.join(directory, f) for f in os.listdir(directory) if f.endswith(('.jpg', '.jpeg', '.png'))]\n",
    "    \n",
    "    if image_list: \n",
    "        data = [load_and_preprocess_image(img) for img in image_list]\n",
    "        all_images_data.extend(data)\n",
    "        all_labels.extend([fruit_type] * len(data))\n",
    "\n",
    "\n",
    "all_images_data, all_labels = np.array(all_images_data), np.array(all_labels)\n",
    "\n",
    "label_encoder = LabelEncoder()\n",
    "encoded_labels = label_encoder.fit_transform(all_labels)\n",
    "\n",
    "train_images, val_images, train_labels, val_labels = train_test_split(\n",
    "    all_images_data, encoded_labels, test_size=0.2, random_state=42\n",
    ")\n",
    "\n"
   ]
  },
  {
   "cell_type": "code",
   "execution_count": 3,
   "metadata": {
    "execution": {
     "iopub.execute_input": "2025-02-22T19:52:30.231331Z",
     "iopub.status.busy": "2025-02-22T19:52:30.231097Z",
     "iopub.status.idle": "2025-02-22T19:53:08.902903Z",
     "shell.execute_reply": "2025-02-22T19:53:08.902169Z",
     "shell.execute_reply.started": "2025-02-22T19:52:30.231312Z"
    },
    "trusted": true
   },
   "outputs": [
    {
     "name": "stdout",
     "output_type": "stream",
     "text": [
      "Downloading data from https://storage.googleapis.com/tensorflow/keras-applications/vgg19/vgg19_weights_tf_dim_ordering_tf_kernels_notop.h5\n",
      "\u001b[1m80134624/80134624\u001b[0m \u001b[32m━━━━━━━━━━━━━━━━━━━━\u001b[0m\u001b[37m\u001b[0m \u001b[1m0s\u001b[0m 0us/step\n",
      "Epoch 1/20\n",
      "\u001b[1m42/42\u001b[0m \u001b[32m━━━━━━━━━━━━━━━━━━━━\u001b[0m\u001b[37m\u001b[0m \u001b[1m12s\u001b[0m 154ms/step - accuracy: 0.2001 - loss: 2.1177 - val_accuracy: 0.4441 - val_loss: 1.5324\n",
      "Epoch 2/20\n",
      "\u001b[1m42/42\u001b[0m \u001b[32m━━━━━━━━━━━━━━━━━━━━\u001b[0m\u001b[37m\u001b[0m \u001b[1m1s\u001b[0m 28ms/step - accuracy: 0.3389 - loss: 1.6102 - val_accuracy: 0.6526 - val_loss: 1.2680\n",
      "Epoch 3/20\n",
      "\u001b[1m42/42\u001b[0m \u001b[32m━━━━━━━━━━━━━━━━━━━━\u001b[0m\u001b[37m\u001b[0m \u001b[1m1s\u001b[0m 28ms/step - accuracy: 0.4461 - loss: 1.3981 - val_accuracy: 0.6677 - val_loss: 1.0928\n",
      "Epoch 4/20\n",
      "\u001b[1m42/42\u001b[0m \u001b[32m━━━━━━━━━━━━━━━━━━━━\u001b[0m\u001b[37m\u001b[0m \u001b[1m1s\u001b[0m 28ms/step - accuracy: 0.5467 - loss: 1.2199 - val_accuracy: 0.7009 - val_loss: 0.9884\n",
      "Epoch 5/20\n",
      "\u001b[1m42/42\u001b[0m \u001b[32m━━━━━━━━━━━━━━━━━━━━\u001b[0m\u001b[37m\u001b[0m \u001b[1m1s\u001b[0m 28ms/step - accuracy: 0.5553 - loss: 1.1496 - val_accuracy: 0.7160 - val_loss: 0.8880\n",
      "Epoch 6/20\n",
      "\u001b[1m42/42\u001b[0m \u001b[32m━━━━━━━━━━━━━━━━━━━━\u001b[0m\u001b[37m\u001b[0m \u001b[1m1s\u001b[0m 28ms/step - accuracy: 0.5955 - loss: 1.0647 - val_accuracy: 0.7281 - val_loss: 0.8292\n",
      "Epoch 7/20\n",
      "\u001b[1m42/42\u001b[0m \u001b[32m━━━━━━━━━━━━━━━━━━━━\u001b[0m\u001b[37m\u001b[0m \u001b[1m1s\u001b[0m 28ms/step - accuracy: 0.6439 - loss: 0.9911 - val_accuracy: 0.7251 - val_loss: 0.8011\n",
      "Epoch 8/20\n",
      "\u001b[1m42/42\u001b[0m \u001b[32m━━━━━━━━━━━━━━━━━━━━\u001b[0m\u001b[37m\u001b[0m \u001b[1m1s\u001b[0m 28ms/step - accuracy: 0.6524 - loss: 0.9172 - val_accuracy: 0.7221 - val_loss: 0.7735\n",
      "Epoch 9/20\n",
      "\u001b[1m42/42\u001b[0m \u001b[32m━━━━━━━━━━━━━━━━━━━━\u001b[0m\u001b[37m\u001b[0m \u001b[1m1s\u001b[0m 28ms/step - accuracy: 0.6944 - loss: 0.8537 - val_accuracy: 0.7311 - val_loss: 0.7335\n",
      "Epoch 10/20\n",
      "\u001b[1m42/42\u001b[0m \u001b[32m━━━━━━━━━━━━━━━━━━━━\u001b[0m\u001b[37m\u001b[0m \u001b[1m1s\u001b[0m 28ms/step - accuracy: 0.6719 - loss: 0.8703 - val_accuracy: 0.7311 - val_loss: 0.7100\n",
      "Epoch 11/20\n",
      "\u001b[1m42/42\u001b[0m \u001b[32m━━━━━━━━━━━━━━━━━━━━\u001b[0m\u001b[37m\u001b[0m \u001b[1m1s\u001b[0m 28ms/step - accuracy: 0.7033 - loss: 0.7612 - val_accuracy: 0.7492 - val_loss: 0.6796\n",
      "Epoch 12/20\n",
      "\u001b[1m42/42\u001b[0m \u001b[32m━━━━━━━━━━━━━━━━━━━━\u001b[0m\u001b[37m\u001b[0m \u001b[1m1s\u001b[0m 28ms/step - accuracy: 0.7290 - loss: 0.7253 - val_accuracy: 0.7553 - val_loss: 0.6715\n",
      "Epoch 13/20\n",
      "\u001b[1m42/42\u001b[0m \u001b[32m━━━━━━━━━━━━━━━━━━━━\u001b[0m\u001b[37m\u001b[0m \u001b[1m1s\u001b[0m 27ms/step - accuracy: 0.7435 - loss: 0.7058 - val_accuracy: 0.7432 - val_loss: 0.6484\n",
      "Epoch 14/20\n",
      "\u001b[1m42/42\u001b[0m \u001b[32m━━━━━━━━━━━━━━━━━━━━\u001b[0m\u001b[37m\u001b[0m \u001b[1m1s\u001b[0m 28ms/step - accuracy: 0.7459 - loss: 0.6844 - val_accuracy: 0.7583 - val_loss: 0.6239\n",
      "Epoch 15/20\n",
      "\u001b[1m42/42\u001b[0m \u001b[32m━━━━━━━━━━━━━━━━━━━━\u001b[0m\u001b[37m\u001b[0m \u001b[1m1s\u001b[0m 27ms/step - accuracy: 0.7559 - loss: 0.6432 - val_accuracy: 0.7795 - val_loss: 0.6262\n",
      "Epoch 16/20\n",
      "\u001b[1m42/42\u001b[0m \u001b[32m━━━━━━━━━━━━━━━━━━━━\u001b[0m\u001b[37m\u001b[0m \u001b[1m1s\u001b[0m 28ms/step - accuracy: 0.7613 - loss: 0.6020 - val_accuracy: 0.7825 - val_loss: 0.6040\n",
      "Epoch 17/20\n",
      "\u001b[1m42/42\u001b[0m \u001b[32m━━━━━━━━━━━━━━━━━━━━\u001b[0m\u001b[37m\u001b[0m \u001b[1m1s\u001b[0m 28ms/step - accuracy: 0.7981 - loss: 0.5622 - val_accuracy: 0.7946 - val_loss: 0.6030\n",
      "Epoch 18/20\n",
      "\u001b[1m42/42\u001b[0m \u001b[32m━━━━━━━━━━━━━━━━━━━━\u001b[0m\u001b[37m\u001b[0m \u001b[1m1s\u001b[0m 28ms/step - accuracy: 0.7820 - loss: 0.5725 - val_accuracy: 0.7915 - val_loss: 0.5816\n",
      "Epoch 19/20\n",
      "\u001b[1m42/42\u001b[0m \u001b[32m━━━━━━━━━━━━━━━━━━━━\u001b[0m\u001b[37m\u001b[0m \u001b[1m1s\u001b[0m 28ms/step - accuracy: 0.7831 - loss: 0.5782 - val_accuracy: 0.7492 - val_loss: 0.6298\n",
      "Epoch 20/20\n",
      "\u001b[1m42/42\u001b[0m \u001b[32m━━━━━━━━━━━━━━━━━━━━\u001b[0m\u001b[37m\u001b[0m \u001b[1m1s\u001b[0m 27ms/step - accuracy: 0.7893 - loss: 0.5563 - val_accuracy: 0.7915 - val_loss: 0.5688\n",
      "\u001b[1m11/11\u001b[0m \u001b[32m━━━━━━━━━━━━━━━━━━━━\u001b[0m\u001b[37m\u001b[0m \u001b[1m0s\u001b[0m 21ms/step - accuracy: 0.7878 - loss: 0.5747\n",
      "Validation Accuracy: 0.7915\n"
     ]
    }
   ],
   "source": [
    "base_model = VGG19(weights='imagenet', include_top=False, input_shape=(100, 100, 3))\n",
    "for layer in base_model.layers:\n",
    "    layer.trainable = False  \n",
    "\n",
    "x = Flatten()(base_model.output)\n",
    "x = Dense(512, activation='relu')(x)\n",
    "x = Dropout(0.5)(x)\n",
    "x = Dense(256, activation='relu')(x)\n",
    "x = Dropout(0.6)(x)\n",
    "output = Dense(len(label_encoder.classes_), activation='softmax')(x)\n",
    "model = Model(inputs=base_model.input, outputs=output)\n",
    "model.compile(optimizer=Adam(learning_rate=0.0001), loss='sparse_categorical_crossentropy', metrics=['accuracy'])\n",
    "history = model.fit(train_images, train_labels, validation_data=(val_images, val_labels), epochs=20, batch_size=32)\n",
    "test_loss, test_acc = model.evaluate(val_images, val_labels)\n",
    "print(f\"Validation Accuracy: {test_acc:.4f}\")\n"
   ]
  },
  {
   "cell_type": "code",
   "execution_count": null,
   "metadata": {
    "trusted": true
   },
   "outputs": [],
   "source": []
  }
 ],
 "metadata": {
  "kaggle": {
   "accelerator": "gpu",
   "dataSources": [
    {
     "datasetId": 4381992,
     "sourceId": 7522318,
     "sourceType": "datasetVersion"
    }
   ],
   "dockerImageVersionId": 30919,
   "isGpuEnabled": true,
   "isInternetEnabled": true,
   "language": "python",
   "sourceType": "notebook"
  },
  "kernelspec": {
   "display_name": "Python 3",
   "language": "python",
   "name": "python3"
  },
  "language_info": {
   "codemirror_mode": {
    "name": "ipython",
    "version": 3
   },
   "file_extension": ".py",
   "mimetype": "text/x-python",
   "name": "python",
   "nbconvert_exporter": "python",
   "pygments_lexer": "ipython3",
   "version": "3.10.12"
  }
 },
 "nbformat": 4,
 "nbformat_minor": 4
}
